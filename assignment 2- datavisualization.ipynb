{
 "cells": [
  {
   "cell_type": "markdown",
   "metadata": {},
   "source": [
    "#### IMPORT LIBRARIES"
   ]
  },
  {
   "cell_type": "code",
   "execution_count": 1,
   "metadata": {},
   "outputs": [],
   "source": [
    "import numpy as np\n",
    "import matplotlib.pyplot as plt\n",
    "import seaborn as sns\n",
    "import pandas as pd\n",
    "from numpy.random import randint,randn"
   ]
  },
  {
   "cell_type": "markdown",
   "metadata": {},
   "source": [
    "#### creating a dataframe of randomly taking  values for 10 rows in 4 columns"
   ]
  },
  {
   "cell_type": "code",
   "execution_count": 2,
   "metadata": {},
   "outputs": [
    {
     "data": {
      "text/html": [
       "<div>\n",
       "<style scoped>\n",
       "    .dataframe tbody tr th:only-of-type {\n",
       "        vertical-align: middle;\n",
       "    }\n",
       "\n",
       "    .dataframe tbody tr th {\n",
       "        vertical-align: top;\n",
       "    }\n",
       "\n",
       "    .dataframe thead th {\n",
       "        text-align: right;\n",
       "    }\n",
       "</style>\n",
       "<table border=\"1\" class=\"dataframe\">\n",
       "  <thead>\n",
       "    <tr style=\"text-align: right;\">\n",
       "      <th></th>\n",
       "      <th>a</th>\n",
       "      <th>b</th>\n",
       "      <th>c</th>\n",
       "      <th>d</th>\n",
       "    </tr>\n",
       "  </thead>\n",
       "  <tbody>\n",
       "    <tr>\n",
       "      <th>0</th>\n",
       "      <td>2.890372</td>\n",
       "      <td>-1.622577</td>\n",
       "      <td>0.597633</td>\n",
       "      <td>-0.198925</td>\n",
       "    </tr>\n",
       "    <tr>\n",
       "      <th>1</th>\n",
       "      <td>0.520418</td>\n",
       "      <td>1.444223</td>\n",
       "      <td>-0.552655</td>\n",
       "      <td>-0.699038</td>\n",
       "    </tr>\n",
       "    <tr>\n",
       "      <th>2</th>\n",
       "      <td>-0.837086</td>\n",
       "      <td>-0.253600</td>\n",
       "      <td>-1.065467</td>\n",
       "      <td>2.448768</td>\n",
       "    </tr>\n",
       "    <tr>\n",
       "      <th>3</th>\n",
       "      <td>1.818936</td>\n",
       "      <td>1.098697</td>\n",
       "      <td>0.845661</td>\n",
       "      <td>-0.483517</td>\n",
       "    </tr>\n",
       "    <tr>\n",
       "      <th>4</th>\n",
       "      <td>0.236053</td>\n",
       "      <td>-0.181917</td>\n",
       "      <td>-1.341153</td>\n",
       "      <td>-0.049140</td>\n",
       "    </tr>\n",
       "    <tr>\n",
       "      <th>5</th>\n",
       "      <td>-0.273061</td>\n",
       "      <td>1.264515</td>\n",
       "      <td>0.884872</td>\n",
       "      <td>-0.028291</td>\n",
       "    </tr>\n",
       "    <tr>\n",
       "      <th>6</th>\n",
       "      <td>-0.528069</td>\n",
       "      <td>0.374546</td>\n",
       "      <td>0.305493</td>\n",
       "      <td>-3.080380</td>\n",
       "    </tr>\n",
       "    <tr>\n",
       "      <th>7</th>\n",
       "      <td>-2.432589</td>\n",
       "      <td>0.246261</td>\n",
       "      <td>0.122837</td>\n",
       "      <td>-1.377715</td>\n",
       "    </tr>\n",
       "    <tr>\n",
       "      <th>8</th>\n",
       "      <td>-0.327304</td>\n",
       "      <td>-0.485226</td>\n",
       "      <td>0.445727</td>\n",
       "      <td>-0.079701</td>\n",
       "    </tr>\n",
       "    <tr>\n",
       "      <th>9</th>\n",
       "      <td>-0.373748</td>\n",
       "      <td>1.635513</td>\n",
       "      <td>-1.302328</td>\n",
       "      <td>1.244792</td>\n",
       "    </tr>\n",
       "  </tbody>\n",
       "</table>\n",
       "</div>"
      ],
      "text/plain": [
       "          a         b         c         d\n",
       "0  2.890372 -1.622577  0.597633 -0.198925\n",
       "1  0.520418  1.444223 -0.552655 -0.699038\n",
       "2 -0.837086 -0.253600 -1.065467  2.448768\n",
       "3  1.818936  1.098697  0.845661 -0.483517\n",
       "4  0.236053 -0.181917 -1.341153 -0.049140\n",
       "5 -0.273061  1.264515  0.884872 -0.028291\n",
       "6 -0.528069  0.374546  0.305493 -3.080380\n",
       "7 -2.432589  0.246261  0.122837 -1.377715\n",
       "8 -0.327304 -0.485226  0.445727 -0.079701\n",
       "9 -0.373748  1.635513 -1.302328  1.244792"
      ]
     },
     "execution_count": 2,
     "metadata": {},
     "output_type": "execute_result"
    }
   ],
   "source": [
    "df=pd.DataFrame(randn(10,4),columns=['a','b','c','d'])\n",
    "df"
   ]
  },
  {
   "cell_type": "markdown",
   "metadata": {},
   "source": [
    "#### plotting bargraph with the dataframe "
   ]
  },
  {
   "cell_type": "code",
   "execution_count": 3,
   "metadata": {},
   "outputs": [
    {
     "data": {
      "text/plain": [
       "Text(0.5, 1.0, 'Bar Graph')"
      ]
     },
     "execution_count": 3,
     "metadata": {},
     "output_type": "execute_result"
    },
    {
     "data": {
      "image/png": "[encoded data removed]",
      "text/plain": [
       "<Figure size 720x288 with 1 Axes>"
      ]
     },
     "metadata": {},
     "output_type": "display_data"
    }
   ],
   "source": [
    "plt.style.use('Solarize_Light2')\n",
    "df.plot(kind='bar',grid=True,figsize=(10,4))\n",
    "plt.xlabel('columns')\n",
    "plt.ylabel('Random numbers')\n",
    "plt.title('Bar Graph')"
   ]
  },
  {
   "cell_type": "code",
   "execution_count": null,
   "metadata": {},
   "outputs": [],
   "source": []
  },
  {
   "cell_type": "code",
   "execution_count": null,
   "metadata": {},
   "outputs": [],
   "source": []
  }
 ],
 "metadata": {
  "kernelspec": {
   "display_name": "Python 3",
   "language": "python",
   "name": "python3"
  },
  "language_info": {
   "codemirror_mode": {
    "name": "ipython",
    "version": 3
   },
   "file_extension": ".py",
   "mimetype": "text/x-python",
   "name": "python",
   "nbconvert_exporter": "python",
   "pygments_lexer": "ipython3",
   "version": "3.8.5"
  }
 },
 "nbformat": 4,
 "nbformat_minor": 4
}
